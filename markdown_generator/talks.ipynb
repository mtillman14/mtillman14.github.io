{
 "cells": [
  {
   "cell_type": "markdown",
   "metadata": {
    "deletable": true,
    "editable": true
   },
   "source": [
    "# Talks markdown generator for academicpages\n",
    "\n",
    "Takes a TSV of talks with metadata and converts them for use with [academicpages.github.io](academicpages.github.io). This is an interactive Jupyter notebook ([see more info here](http://jupyter-notebook-beginner-guide.readthedocs.io/en/latest/what_is_jupyter.html)). The core python code is also in `talks.py`. Run either from the `markdown_generator` folder after replacing `talks.tsv` with one containing your data.\n",
    "\n",
    "TODO: Make this work with BibTex and other databases, rather than Stuart's non-standard TSV format and citation style."
   ]
  },
  {
   "cell_type": "code",
   "execution_count": 16,
   "metadata": {
    "collapsed": false,
    "deletable": true,
    "editable": true
   },
   "outputs": [],
   "source": [
    "import pandas as pd\n",
    "import os"
   ]
  },
  {
   "cell_type": "markdown",
   "metadata": {},
   "source": [
    "## Data format\n",
    "\n",
    "The TSV needs to have the following columns: title, type, url_slug, venue, date, location, talk_url, description, with a header at the top. Many of these fields can be blank, but the columns must be in the TSV.\n",
    "\n",
    "- Fields that cannot be blank: `title`, `url_slug`, `date`. All else can be blank. `type` defaults to \"Talk\" \n",
    "- `date` must be formatted as YYYY-MM-DD.\n",
    "- `url_slug` will be the descriptive part of the .md file and the permalink URL for the page about the paper. \n",
    "    - The .md file will be `YYYY-MM-DD-[url_slug].md` and the permalink will be `https://[yourdomain]/talks/YYYY-MM-DD-[url_slug]`\n",
    "    - The combination of `url_slug` and `date` must be unique, as it will be the basis for your filenames\n",
    "\n",
    "This is how the raw file looks (it doesn't look pretty, use a spreadsheet or other program to edit and create)."
   ]
  },
  {
   "cell_type": "code",
   "execution_count": 17,
   "metadata": {
    "collapsed": false
   },
   "outputs": [],
   "source": [
    "# !cat talks.tsv"
   ]
  },
  {
   "cell_type": "markdown",
   "metadata": {},
   "source": [
    "## Import TSV\n",
    "\n",
    "Pandas makes this easy with the read_csv function. We are using a TSV, so we specify the separator as a tab, or `\\t`.\n",
    "\n",
    "I found it important to put this data in a tab-separated values format, because there are a lot of commas in this kind of data and comma-separated values can get messed up. However, you can modify the import statement, as pandas also has read_excel(), read_json(), and others."
   ]
  },
  {
   "cell_type": "code",
   "execution_count": 18,
   "metadata": {
    "collapsed": false,
    "deletable": true,
    "editable": true
   },
   "outputs": [
    {
     "data": {
      "text/html": [
       "<div>\n",
       "<style scoped>\n",
       "    .dataframe tbody tr th:only-of-type {\n",
       "        vertical-align: middle;\n",
       "    }\n",
       "\n",
       "    .dataframe tbody tr th {\n",
       "        vertical-align: top;\n",
       "    }\n",
       "\n",
       "    .dataframe thead th {\n",
       "        text-align: right;\n",
       "    }\n",
       "</style>\n",
       "<table border=\"1\" class=\"dataframe\">\n",
       "  <thead>\n",
       "    <tr style=\"text-align: right;\">\n",
       "      <th></th>\n",
       "      <th>title</th>\n",
       "      <th>type</th>\n",
       "      <th>url_slug</th>\n",
       "      <th>venue</th>\n",
       "      <th>date</th>\n",
       "      <th>location</th>\n",
       "      <th>talk_url</th>\n",
       "      <th>description</th>\n",
       "    </tr>\n",
       "  </thead>\n",
       "  <tbody>\n",
       "    <tr>\n",
       "      <th>0</th>\n",
       "      <td>Problems and Ideas Relating to Sharing Code in...</td>\n",
       "      <td>Talk</td>\n",
       "      <td>ASB-Student-Seminar</td>\n",
       "      <td>American Society of Biomechanics Student Semin...</td>\n",
       "      <td>2022-12-01</td>\n",
       "      <td>Virtual</td>\n",
       "      <td>NaN</td>\n",
       "      <td>Oral presentation by Mitchell Tillman</td>\n",
       "    </tr>\n",
       "    <tr>\n",
       "      <th>1</th>\n",
       "      <td>sciOS a ”science operating system”: Developing...</td>\n",
       "      <td>Seminar</td>\n",
       "      <td>Dept-Seminar</td>\n",
       "      <td>Department Seminar</td>\n",
       "      <td>2022-02-01</td>\n",
       "      <td>Hoboken NJ USA</td>\n",
       "      <td>NaN</td>\n",
       "      <td>Oral presentation by Mitchell Tillman</td>\n",
       "    </tr>\n",
       "    <tr>\n",
       "      <th>2</th>\n",
       "      <td>Momenta control during each phase of gait reve...</td>\n",
       "      <td>Poster</td>\n",
       "      <td>SFN</td>\n",
       "      <td>Society for Neuroscience</td>\n",
       "      <td>2023-11-01</td>\n",
       "      <td>Washington D.C. USA</td>\n",
       "      <td>NaN</td>\n",
       "      <td>Poster presentation by Mitchell Tillman</td>\n",
       "    </tr>\n",
       "    <tr>\n",
       "      <th>3</th>\n",
       "      <td>Frontal Plane Balance Patterns of Older Adults...</td>\n",
       "      <td>Poster</td>\n",
       "      <td>ASB</td>\n",
       "      <td>American Society of Biomechanics</td>\n",
       "      <td>2023-08-01</td>\n",
       "      <td>Knoxville TN USA</td>\n",
       "      <td>NaN</td>\n",
       "      <td>Poster presentation by Zahava Hirsch</td>\n",
       "    </tr>\n",
       "    <tr>\n",
       "      <th>4</th>\n",
       "      <td>Gait Phase-Specific Linear and Angular Momentu...</td>\n",
       "      <td>Poster</td>\n",
       "      <td>ISPGR</td>\n",
       "      <td>International Society of Posture and Gait Rese...</td>\n",
       "      <td>2023-07-01</td>\n",
       "      <td>Virtual Brisbane AU</td>\n",
       "      <td>NaN</td>\n",
       "      <td>Poster presentation by Mitchell Tillman</td>\n",
       "    </tr>\n",
       "    <tr>\n",
       "      <th>5</th>\n",
       "      <td>Evaluating the Understandability of Real-Time ...</td>\n",
       "      <td>Poster</td>\n",
       "      <td>SB3C</td>\n",
       "      <td>Summer Biomechanics Bioengineering and Biotran...</td>\n",
       "      <td>2023-06-01</td>\n",
       "      <td>Vail CO USA</td>\n",
       "      <td>NaN</td>\n",
       "      <td>Poster presentation by Vibha Iyer</td>\n",
       "    </tr>\n",
       "    <tr>\n",
       "      <th>6</th>\n",
       "      <td>Generation of Transverse Plane Linear and Angu...</td>\n",
       "      <td>Podium</td>\n",
       "      <td>ASB-NACOB</td>\n",
       "      <td>American Society of Biomechanics &amp; North Ameri...</td>\n",
       "      <td>2022-08-01</td>\n",
       "      <td>Ottawa CA</td>\n",
       "      <td>NaN</td>\n",
       "      <td>Podium presentation by Mitchell Tillman</td>\n",
       "    </tr>\n",
       "    <tr>\n",
       "      <th>7</th>\n",
       "      <td>Lateral Distance as a Measure of Balance Durin...</td>\n",
       "      <td>Podium</td>\n",
       "      <td>SB3C</td>\n",
       "      <td>Summer Biomechanics Bioengineering and Biotran...</td>\n",
       "      <td>2022-06-01</td>\n",
       "      <td>Cambridge MA USA</td>\n",
       "      <td>NaN</td>\n",
       "      <td>Podium presentation by Dr. Antonia Zaferiou. S...</td>\n",
       "    </tr>\n",
       "    <tr>\n",
       "      <th>8</th>\n",
       "      <td>Gait Phase-Specific Generation of Transverse P...</td>\n",
       "      <td>Podium</td>\n",
       "      <td>NEBEC</td>\n",
       "      <td>Northeast Bioengineering Conference</td>\n",
       "      <td>2022-04-01</td>\n",
       "      <td>NYC NY USA</td>\n",
       "      <td>NaN</td>\n",
       "      <td>Podium presentation by Dr. Zaferiou</td>\n",
       "    </tr>\n",
       "    <tr>\n",
       "      <th>9</th>\n",
       "      <td>User-Centered Design of Sonified Balance Biofe...</td>\n",
       "      <td>Podium</td>\n",
       "      <td>EMBC</td>\n",
       "      <td>International Conference of the IEEE Engineeri...</td>\n",
       "      <td>2021-10-01</td>\n",
       "      <td>Virtual</td>\n",
       "      <td>NaN</td>\n",
       "      <td>Podium presentation by Dr. Zaferiou</td>\n",
       "    </tr>\n",
       "    <tr>\n",
       "      <th>10</th>\n",
       "      <td>Frontal-Plane Whole-Body Angular Momentum Duri...</td>\n",
       "      <td>Podium</td>\n",
       "      <td>ASB</td>\n",
       "      <td>American Society of Biomechanics</td>\n",
       "      <td>2021-08-01</td>\n",
       "      <td>Virtual</td>\n",
       "      <td>NaN</td>\n",
       "      <td>Podium presentation by Mitchell Tillman</td>\n",
       "    </tr>\n",
       "    <tr>\n",
       "      <th>11</th>\n",
       "      <td>Early Testing of a Real-Time Balance Sonificat...</td>\n",
       "      <td>Poster</td>\n",
       "      <td>ASB</td>\n",
       "      <td>American Society of Biomechanics</td>\n",
       "      <td>2020-08-01</td>\n",
       "      <td>Virtual</td>\n",
       "      <td>NaN</td>\n",
       "      <td>Poster presentation by Mitchell Tillman</td>\n",
       "    </tr>\n",
       "  </tbody>\n",
       "</table>\n",
       "</div>"
      ],
      "text/plain": [
       "                                                title     type  \\\n",
       "0   Problems and Ideas Relating to Sharing Code in...     Talk   \n",
       "1   sciOS a ”science operating system”: Developing...  Seminar   \n",
       "2   Momenta control during each phase of gait reve...   Poster   \n",
       "3   Frontal Plane Balance Patterns of Older Adults...   Poster   \n",
       "4   Gait Phase-Specific Linear and Angular Momentu...   Poster   \n",
       "5   Evaluating the Understandability of Real-Time ...   Poster   \n",
       "6   Generation of Transverse Plane Linear and Angu...   Podium   \n",
       "7   Lateral Distance as a Measure of Balance Durin...   Podium   \n",
       "8   Gait Phase-Specific Generation of Transverse P...   Podium   \n",
       "9   User-Centered Design of Sonified Balance Biofe...   Podium   \n",
       "10  Frontal-Plane Whole-Body Angular Momentum Duri...   Podium   \n",
       "11  Early Testing of a Real-Time Balance Sonificat...   Poster   \n",
       "\n",
       "               url_slug                                              venue  \\\n",
       "0   ASB-Student-Seminar  American Society of Biomechanics Student Semin...   \n",
       "1          Dept-Seminar                                 Department Seminar   \n",
       "2                   SFN                           Society for Neuroscience   \n",
       "3                   ASB                   American Society of Biomechanics   \n",
       "4                 ISPGR  International Society of Posture and Gait Rese...   \n",
       "5                  SB3C  Summer Biomechanics Bioengineering and Biotran...   \n",
       "6             ASB-NACOB  American Society of Biomechanics & North Ameri...   \n",
       "7                  SB3C  Summer Biomechanics Bioengineering and Biotran...   \n",
       "8                 NEBEC                Northeast Bioengineering Conference   \n",
       "9                  EMBC  International Conference of the IEEE Engineeri...   \n",
       "10                  ASB                   American Society of Biomechanics   \n",
       "11                  ASB                   American Society of Biomechanics   \n",
       "\n",
       "          date             location  talk_url  \\\n",
       "0   2022-12-01              Virtual       NaN   \n",
       "1   2022-02-01       Hoboken NJ USA       NaN   \n",
       "2   2023-11-01  Washington D.C. USA       NaN   \n",
       "3   2023-08-01     Knoxville TN USA       NaN   \n",
       "4   2023-07-01  Virtual Brisbane AU       NaN   \n",
       "5   2023-06-01          Vail CO USA       NaN   \n",
       "6   2022-08-01            Ottawa CA       NaN   \n",
       "7   2022-06-01     Cambridge MA USA       NaN   \n",
       "8   2022-04-01           NYC NY USA       NaN   \n",
       "9   2021-10-01              Virtual       NaN   \n",
       "10  2021-08-01              Virtual       NaN   \n",
       "11  2020-08-01              Virtual       NaN   \n",
       "\n",
       "                                          description  \n",
       "0               Oral presentation by Mitchell Tillman  \n",
       "1               Oral presentation by Mitchell Tillman  \n",
       "2             Poster presentation by Mitchell Tillman  \n",
       "3                Poster presentation by Zahava Hirsch  \n",
       "4             Poster presentation by Mitchell Tillman  \n",
       "5                   Poster presentation by Vibha Iyer  \n",
       "6             Podium presentation by Mitchell Tillman  \n",
       "7   Podium presentation by Dr. Antonia Zaferiou. S...  \n",
       "8                 Podium presentation by Dr. Zaferiou  \n",
       "9                 Podium presentation by Dr. Zaferiou  \n",
       "10            Podium presentation by Mitchell Tillman  \n",
       "11            Poster presentation by Mitchell Tillman  "
      ]
     },
     "execution_count": 18,
     "metadata": {},
     "output_type": "execute_result"
    }
   ],
   "source": [
    "talks = pd.read_csv(\"talks_new.csv\")\n",
    "talks"
   ]
  },
  {
   "cell_type": "markdown",
   "metadata": {},
   "source": [
    "## Escape special characters\n",
    "\n",
    "YAML is very picky about how it takes a valid string, so we are replacing single and double quotes (and ampersands) with their HTML encoded equivilents. This makes them look not so readable in raw format, but they are parsed and rendered nicely."
   ]
  },
  {
   "cell_type": "code",
   "execution_count": 19,
   "metadata": {
    "collapsed": false,
    "deletable": true,
    "editable": true
   },
   "outputs": [],
   "source": [
    "html_escape_table = {\n",
    "    \"&\": \"&amp;\",\n",
    "    '\"': \"&quot;\",\n",
    "    \"'\": \"&apos;\"\n",
    "    }\n",
    "\n",
    "def html_escape(text):\n",
    "    if type(text) is str:\n",
    "        return \"\".join(html_escape_table.get(c,c) for c in text)\n",
    "    else:\n",
    "        return \"False\""
   ]
  },
  {
   "cell_type": "markdown",
   "metadata": {},
   "source": [
    "## Creating the markdown files\n",
    "\n",
    "This is where the heavy lifting is done. This loops through all the rows in the TSV dataframe, then starts to concatentate a big string (```md```) that contains the markdown for each type. It does the YAML metadata first, then does the description for the individual page."
   ]
  },
  {
   "cell_type": "code",
   "execution_count": 20,
   "metadata": {
    "collapsed": false,
    "deletable": true,
    "editable": true
   },
   "outputs": [],
   "source": [
    "loc_dict = {}\n",
    "\n",
    "for row, item in talks.iterrows():\n",
    "    \n",
    "    md_filename = str(item.date) + \"-\" + item.url_slug + \".md\"\n",
    "    html_filename = str(item.date) + \"-\" + item.url_slug \n",
    "    year = item.date[:4]\n",
    "    \n",
    "    md = \"---\\ntitle: \\\"\"   + item.title + '\"\\n'\n",
    "    md += \"collection: talks\" + \"\\n\"\n",
    "    \n",
    "    if len(str(item.type)) > 3:\n",
    "        md += 'type: \"' + item.type + '\"\\n'\n",
    "    else:\n",
    "        md += 'type: \"Talk\"\\n'\n",
    "    \n",
    "    md += \"permalink: /talks/\" + html_filename + \"\\n\"\n",
    "    \n",
    "    if len(str(item.venue)) > 3:\n",
    "        md += 'venue: \"' + item.venue + '\"\\n'\n",
    "        \n",
    "    if len(str(item.location)) > 3:\n",
    "        md += \"date: \" + str(item.date) + \"\\n\"\n",
    "    \n",
    "    if len(str(item.location)) > 3:\n",
    "        md += 'location: \"' + str(item.location) + '\"\\n'\n",
    "           \n",
    "    md += \"---\\n\"\n",
    "    \n",
    "    \n",
    "    if len(str(item.talk_url)) > 3:\n",
    "        md += \"\\n[More information here](\" + item.talk_url + \")\\n\" \n",
    "        \n",
    "    \n",
    "    if len(str(item.description)) > 3:\n",
    "        md += \"\\n\" + html_escape(item.description) + \"\\n\"\n",
    "        \n",
    "        \n",
    "    md_filename = os.path.basename(md_filename)\n",
    "    #print(md)\n",
    "    \n",
    "    with open(\"../_talks/\" + md_filename, 'w') as f:\n",
    "        f.write(md)"
   ]
  },
  {
   "cell_type": "markdown",
   "metadata": {},
   "source": [
    "These files are in the talks directory, one directory below where we're working from."
   ]
  },
  {
   "cell_type": "code",
   "execution_count": 21,
   "metadata": {
    "collapsed": false,
    "deletable": true,
    "editable": true
   },
   "outputs": [
    {
     "name": "stdout",
     "output_type": "stream",
     "text": [
      "2012-03-01-talk-1.md              2022-04-01-NEBEC.md\n",
      "2013-03-01-tutorial-1.md          2022-06-01-SB3C.md\n",
      "2014-02-01-talk-2.md              2022-08-01-ASB-NACOB.md\n",
      "2014-03-01-talk-3.md              2022-12-01-ASB-Student-Seminar.md\n",
      "2020-08-01-ASB.md                 2023-06-01-SB3C.md\n",
      "2021-08-01-ASB.md                 2023-07-01-ISPGR.md\n",
      "2021-10-01-EMBC.md                2023-08-01-ASB.md\n",
      "2022-02-01-Dept-Seminar.md        2023-11-01-SFN.md\n"
     ]
    }
   ],
   "source": [
    "!ls ../_talks"
   ]
  },
  {
   "cell_type": "code",
   "execution_count": 22,
   "metadata": {
    "collapsed": false,
    "deletable": true,
    "editable": true
   },
   "outputs": [
    {
     "name": "stdout",
     "output_type": "stream",
     "text": [
      "---\n",
      "title: \"Tutorial 1 on Relevant Topic in Your Field\"\n",
      "collection: talks\n",
      "type: \"Tutorial\"\n",
      "permalink: /talks/2013-03-01-tutorial-1\n",
      "venue: \"UC-Berkeley Institute for Testing Science\"\n",
      "date: 2013-03-01\n",
      "location: \"Berkeley CA, USA\"\n",
      "---\n",
      "\n",
      "[More information here](http://exampleurl.com)\n",
      "\n",
      "This is a description of your tutorial, note the different field in type. This is a markdown files that can be all markdown-ified like any other post. Yay markdown!\n"
     ]
    }
   ],
   "source": [
    "!cat ../_talks/2013-03-01-tutorial-1.md"
   ]
  }
 ],
 "metadata": {
  "kernelspec": {
   "display_name": ".venv",
   "language": "python",
   "name": "python3"
  },
  "language_info": {
   "codemirror_mode": {
    "name": "ipython",
    "version": 3
   },
   "file_extension": ".py",
   "mimetype": "text/x-python",
   "name": "python",
   "nbconvert_exporter": "python",
   "pygments_lexer": "ipython3",
   "version": "3.13.0"
  }
 },
 "nbformat": 4,
 "nbformat_minor": 0
}
