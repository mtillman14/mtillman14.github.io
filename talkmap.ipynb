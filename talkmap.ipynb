{
 "cells": [
  {
   "cell_type": "markdown",
   "metadata": {},
   "source": [
    "# Leaflet cluster map of talk locations\n",
    "\n",
    "Run this from the _talks/ directory, which contains .md files of all your talks. This scrapes the location YAML field from each .md file, geolocates it with geopy/Nominatim, and uses the getorg library to output data, HTML, and Javascript for a standalone cluster map."
   ]
  },
  {
   "cell_type": "code",
   "execution_count": 2,
   "metadata": {
    "collapsed": false
   },
   "outputs": [
    {
     "name": "stdout",
     "output_type": "stream",
     "text": [
      "/Users/mitchelltillman/Desktop/Not_Work/Code/JavaScript_Projects/mtillman14.github.io/_talks\n"
     ]
    }
   ],
   "source": [
    "# !pip install getorg --upgrade\n",
    "import glob\n",
    "import getorg\n",
    "from geopy import Nominatim\n",
    "import os\n",
    "# os.chdir(\"_talks\")\n",
    "print(os.path.abspath('.'))"
   ]
  },
  {
   "cell_type": "code",
   "execution_count": 3,
   "metadata": {
    "collapsed": false
   },
   "outputs": [
    {
     "name": "stdout",
     "output_type": "stream",
     "text": [
      "['2023-07-01-ISPGR.md', '2022-08-01-ASB-NACOB.md', '2018-08-01-ASB.md', '2021-09-01-Dept-Seminar.md', '2019-08-01-ASB.md', '2021-10-01-EMBC.md', '2018-04-01-Purdue.md', '2019-02-01-ASB.md', '2022-02-02-Dept-Seminar.md', '2017-04-01-Purdue.md', '2022-06-01-SB3C.md', '2017-05-01-Purdue.md', '2017-07-01-PMC.md', '2023-08-01-ASB.md', '2017-08-01-ASB.md', '2023-11-01-SFN.md', '2019-08-02-ASB.md', '2021-08-01-ASB.md', '2023-06-01-SB3C.md', '2019-10-01-SFN.md', '2020-08-01-ASB.md', '2022-12-01-ASB-Student-Seminar.md', '2022-02-01-Dept-Seminar.md', '2022-04-01-NEBEC.md', '2017-02-01-ASB.md']\n"
     ]
    }
   ],
   "source": [
    "g = glob.glob(\"*.md\")\n",
    "print(g)"
   ]
  },
  {
   "cell_type": "code",
   "execution_count": 4,
   "metadata": {
    "collapsed": true
   },
   "outputs": [],
   "source": [
    "geocoder = Nominatim(user_agent=\"myGeocoder\")\n",
    "location_dict = {}\n",
    "location = \"\"\n",
    "permalink = \"\"\n",
    "title = \"\""
   ]
  },
  {
   "cell_type": "code",
   "execution_count": 6,
   "metadata": {
    "collapsed": false
   },
   "outputs": [
    {
     "name": "stdout",
     "output_type": "stream",
     "text": [
      "2023-07-01-ISPGR.md\n",
      "Grand Rapids MI USA \n",
      " Grand Rapids, Kent County, Michigan, United States\n",
      "2022-08-01-ASB-NACOB.md\n",
      "Ottawa, ON, Canada \n",
      " Ottawa, Eastern Ontario, Ontario, Canada\n",
      "2018-08-01-ASB.md\n",
      "Rochester MN USA \n",
      " Rochester, Olmsted County, Minnesota, United States\n",
      "2021-09-01-Dept-Seminar.md\n",
      "Hoboken NJ USA \n",
      " Hoboken, Hudson County, New Jersey, 07030, United States\n",
      "2019-08-01-ASB.md\n",
      "Calgary AB Canada \n",
      " Calgary, Alberta, Canada\n",
      "2021-10-01-EMBC.md\n",
      "Calgary AB Canada \n",
      " Calgary, Alberta, Canada\n",
      "2018-04-01-Purdue.md\n",
      "West Lafayette IN USA \n",
      " West Lafayette, Tippecanoe County, Indiana, United States\n",
      "2019-02-01-ASB.md\n",
      "Dayton OH USA \n",
      " Dayton, Montgomery County, Ohio, United States\n",
      "2022-02-02-Dept-Seminar.md\n",
      "Hoboken, NJ USA \n",
      " Hoboken, Hudson County, New Jersey, 07030, United States\n",
      "2017-04-01-Purdue.md\n",
      "West Lafayette IN USA \n",
      " West Lafayette, Tippecanoe County, Indiana, United States\n",
      "2022-06-01-SB3C.md\n",
      "Cambridge MA USA \n",
      " Cambridge, Middlesex County, Massachusetts, United States\n",
      "2017-05-01-Purdue.md\n",
      "St. Joseph, MI USA \n",
      " Saint Joseph County, Michigan, United States\n",
      "2017-07-01-PMC.md\n",
      "Miami, FL USA \n",
      " Miami, Miami-Dade County, Florida, United States\n",
      "2023-08-01-ASB.md\n",
      "Knoxville TN USA \n",
      " Knoxville, Knox County, East Tennessee, Tennessee, United States\n",
      "2017-08-01-ASB.md\n",
      "Boulder CO USA \n",
      " Boulder, Boulder County, Colorado, United States\n",
      "2023-11-01-SFN.md\n",
      "Washington D.C. USA \n",
      " Washington, District of Columbia, United States\n",
      "2019-08-02-ASB.md\n",
      "Calgary AB Canada \n",
      " Calgary, Alberta, Canada\n",
      "2021-08-01-ASB.md\n",
      "Calgary AB Canada \n",
      " Calgary, Alberta, Canada\n",
      "2023-06-01-SB3C.md\n",
      "Vail CO USA \n",
      " Vail, Eagle County, Colorado, 81657, United States\n",
      "2019-10-01-SFN.md\n",
      "Chicago IL USA \n",
      " Chicago, Cook County, Illinois, United States\n",
      "2020-08-01-ASB.md\n",
      "Chicago IL USA \n",
      " Chicago, Cook County, Illinois, United States\n",
      "2022-12-01-ASB-Student-Seminar.md\n",
      "Chicago IL USA \n",
      " Chicago, Cook County, Illinois, United States\n",
      "2022-02-01-Dept-Seminar.md\n",
      "Hoboken, NJ USA \n",
      " Hoboken, Hudson County, New Jersey, 07030, United States\n",
      "2022-04-01-NEBEC.md\n",
      "NYC NY USA \n",
      " City of New York, New York, United States\n",
      "2017-02-01-ASB.md\n",
      "Grand Rapids MI USA \n",
      " Grand Rapids, Kent County, Michigan, United States\n"
     ]
    }
   ],
   "source": [
    "\n",
    "for file in g:\n",
    "    print(file)\n",
    "    with open(file, 'r') as f:\n",
    "        lines = f.read()\n",
    "        if lines.find('location: ') > 1:\n",
    "            loc_start = lines.find('location: \"') + 11\n",
    "            lines_trim = lines[loc_start:]\n",
    "            loc_end = lines_trim.find('\"')\n",
    "            location = lines_trim[:loc_end]\n",
    "                            \n",
    "           \n",
    "        location_dict[location] = geocoder.geocode(location)\n",
    "        print(location, \"\\n\", location_dict[location])\n"
   ]
  },
  {
   "cell_type": "code",
   "execution_count": 7,
   "metadata": {
    "collapsed": false
   },
   "outputs": [
    {
     "data": {
      "text/plain": [
       "'Written map to ../talkmap/'"
      ]
     },
     "execution_count": 7,
     "metadata": {},
     "output_type": "execute_result"
    }
   ],
   "source": [
    "m = getorg.orgmap.create_map_obj()\n",
    "getorg.orgmap.output_html_cluster_map(location_dict, folder_name=\"../talkmap\", hashed_usernames=False)"
   ]
  },
  {
   "cell_type": "code",
   "execution_count": null,
   "metadata": {
    "collapsed": true
   },
   "outputs": [],
   "source": []
  }
 ],
 "metadata": {
  "anaconda-cloud": {},
  "kernelspec": {
   "display_name": ".venv",
   "language": "python",
   "name": "python3"
  },
  "language_info": {
   "codemirror_mode": {
    "name": "ipython",
    "version": 3
   },
   "file_extension": ".py",
   "mimetype": "text/x-python",
   "name": "python",
   "nbconvert_exporter": "python",
   "pygments_lexer": "ipython3",
   "version": "3.13.0"
  }
 },
 "nbformat": 4,
 "nbformat_minor": 0
}
